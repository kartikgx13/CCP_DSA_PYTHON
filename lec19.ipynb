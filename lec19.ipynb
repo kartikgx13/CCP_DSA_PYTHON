{
 "cells": [
  {
   "cell_type": "code",
   "execution_count": null,
   "metadata": {},
   "outputs": [],
   "source": [
    "\"\"\"\n",
    "Systems:\n",
    "1T\n",
    "2T\n",
    "3T\n",
    "NT\n",
    "(T stands for tier)\n",
    "\n",
    "Layer of typical software:\n",
    "UI-->BL(Business logic)-->Data layer or DB\n",
    "\"\"\""
   ]
  },
  {
   "cell_type": "code",
   "execution_count": null,
   "metadata": {},
   "outputs": [],
   "source": [
    "\"\"\"\n",
    "Generations of Programming:\n",
    "-->Gen 1:Machine language\n",
    "-->Gen 2:Assembly level language\n",
    "The major drawback of these 2 gens were that they were machine depenedent\n",
    "-->Gen 3:High level language\n",
    "C,C++,Python etc.\n",
    "-->Gen 4:SQL(Structured Query Language)\n",
    "It is a database language\n",
    "\n",
    "\"\"\""
   ]
  },
  {
   "cell_type": "code",
   "execution_count": null,
   "metadata": {},
   "outputs": [],
   "source": [
    "\"\"\"\n",
    "Databases:\n",
    "-->Collection of Tables:\n",
    "      -->Collection of Structured Records:\n",
    "           -->Collection of Entities:\n",
    "                -->Properties + Values\n",
    "\n",
    "\n",
    "\"\"\""
   ]
  }
 ],
 "metadata": {
  "kernelspec": {
   "display_name": "Python 3",
   "language": "python",
   "name": "python3"
  },
  "language_info": {
   "name": "python",
   "version": "3.11.0 (main, Oct 24 2022, 18:26:48) [MSC v.1933 64 bit (AMD64)]"
  },
  "orig_nbformat": 4,
  "vscode": {
   "interpreter": {
    "hash": "c261aea317cc0286b3b3261fbba9abdec21eaa57589985bb7a274bf54d6cc0a7"
   }
  }
 },
 "nbformat": 4,
 "nbformat_minor": 2
}
