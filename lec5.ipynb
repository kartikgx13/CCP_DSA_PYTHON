{
 "cells": [
  {
   "cell_type": "code",
   "execution_count": null,
   "metadata": {},
   "outputs": [],
   "source": [
    "#oops is a bottom up approach\n",
    "#the four pillars of oops\n",
    "#encapsulation\n",
    "#abstraction\n",
    "#polymorphism\n",
    "#inheritance"
   ]
  },
  {
   "cell_type": "code",
   "execution_count": null,
   "metadata": {},
   "outputs": [],
   "source": [
    "\"\"\"\n",
    "encapsulation is a process of combining data and operations in a single unit(mcd and vadapav eg)\n",
    "\n",
    "abstraction is process of giving access to data and in minimum and less complicated manner\n",
    "i.e. hide the way it is done,only acessing the data as user is not concerned with it \n",
    "\n",
    "Inheritance is process of properties from pre-existing and creating something new\n",
    "(own properties and inherited properties)\n",
    "advantages of inheritance:\n",
    "-->faster development\n",
    "-->enhancement\n",
    "-->evolution\n",
    "\n",
    "polymorphism is the ability to exist in multiple forms\n",
    "-->overload 1 function name with n operations(data)\n",
    "-->overide sub class rewrites super class's method\n",
    "\n",
    "class:-                       object:-\n",
    "-->virtual idea               -->physical implementation\n",
    "-->has properties             -->has values\n",
    "-->operations on properties   -->have methods\n",
    "(setters,getters,display)     -->n objects of one class\n",
    "-->one class n objects\n",
    "\n",
    "\n",
    "\"\"\""
   ]
  },
  {
   "cell_type": "code",
   "execution_count": 1,
   "metadata": {},
   "outputs": [
    {
     "name": "stdout",
     "output_type": "stream",
     "text": [
      "Reference self has: 2075841247056\n"
     ]
    }
   ],
   "source": [
    "#basics of class \n",
    "#every data would create method in python\n",
    "#every method can create new properties in class\n",
    "class Human:\n",
    "    def createHuman(self):  #ref of calling object\n",
    "        print(f\"Reference self has: {id(self)}\")\n",
    "        self.gender=input(\"Gender: \")\n",
    "        self.name=input(\"Name: \")       #these are the setters\n",
    "    \n",
    "    def displayHuman(self):            #these are the getters\n",
    "        print(f\"Name: {self.name} Gender: {self.gender}\")\n",
    "\n",
    "h=Human()\n",
    "h.createHuman()\n",
    "#h.displayHuman()\n",
    "\n",
    "\n",
    "\n"
   ]
  },
  {
   "cell_type": "code",
   "execution_count": 2,
   "metadata": {},
   "outputs": [
    {
     "data": {
      "text/plain": [
       "2075841247056"
      ]
     },
     "execution_count": 2,
     "metadata": {},
     "output_type": "execute_result"
    }
   ],
   "source": [
    "id(h)  #as we can see id of h and self is same showing \n",
    "       #that self is referencing to h"
   ]
  },
  {
   "cell_type": "code",
   "execution_count": null,
   "metadata": {},
   "outputs": [],
   "source": [
    "#this is format of industry\n",
    "class Human:\n",
    "    def createHuman(self,name,gender):  #here name and gender are local variable\n",
    "        #print(f\"Reference self has: {id(self)}\")\n",
    "        self.gender=gender\n",
    "        self.name=name       #these are instance variables\n",
    "    \n",
    "    def displayHuman(self):            #these are the getters\n",
    "        print(f\"Name: {self.name} Gender: {self.gender}\")\n",
    "\n",
    "name=input(\"Enter name: \")\n",
    "gender=input(\"Enter gender: \")\n",
    "\n",
    "h1=Human()\n",
    "h1.createHuman(name,gender)\n",
    "h1.displayHuman()"
   ]
  },
  {
   "cell_type": "code",
   "execution_count": null,
   "metadata": {},
   "outputs": [],
   "source": [
    "\"\"\"\n",
    "create class cal\n",
    "has methods for\n",
    "add\n",
    "sub\n",
    "mul\n",
    "div\n",
    "set 2 numbers\n",
    "\n",
    "\"\"\"\n",
    "\n",
    "class Cal:                         #dont forget to type self in print statement as well\n",
    "    def takeInput(self,no1,no2):\n",
    "        self.no1=no1\n",
    "        self.no2=no2\n",
    "    def add(self):\n",
    "        self.sum=self.no1+self.no2\n",
    "        print(f\"{self.no1}+{self.no2} is {self.sum}\")\n",
    "    def sub(self):\n",
    "        self.sum=self.no1-self.no2\n",
    "        print(f\"{self.no1}-{self.no2} is {self.sum}\")\n",
    "    def mul(self):\n",
    "        self.sum=self.no1*self.no2\n",
    "        print(f\"{self.no1}*{self.no2} is {self.sum}\")\n",
    "    def div(self):\n",
    "        self.sum=self.no1/self.no2\n",
    "        print(f\"{self.no1}/{self.no2} is {self.sum}\")\n",
    "\n",
    "c=Cal()\n",
    "c.takeInput(10,20)\n",
    "c.add()\n",
    "c.sub()\n",
    "c.mul()\n",
    "c.div()\n"
   ]
  },
  {
   "cell_type": "code",
   "execution_count": 3,
   "metadata": {},
   "outputs": [
    {
     "name": "stdout",
     "output_type": "stream",
     "text": [
      "Reference self has: 2075844994128\n",
      "Reference self has: 2075841247056\n",
      "RIP bhjbjhb\n",
      "Reference self has: 2075842012496\n",
      "RIP knsdonn\n"
     ]
    },
    {
     "data": {
      "text/plain": [
       "'\\nconstructor is used for:-\\n-->initialization\\n-->default value\\n-->validation\\n\\nall the methods that start and end with double underscore are \\nknown as system methods\\n\\ndel method:-\\ncalled on its own just before anything goes for\\ngarbage collection\\nin simple words this method is called when two objects \\nhaving same name are used so when reference of first\\nends to refer to second object then del methods will\\nbe called for first object\\n'"
      ]
     },
     "execution_count": 3,
     "metadata": {},
     "output_type": "execute_result"
    }
   ],
   "source": [
    "#constructor is defined as that function which is automatically\n",
    "#called when an object is created\n",
    "\n",
    "class Human:\n",
    "    def __init__(self):  #ref of calling object\n",
    "        print(f\"Reference self has: {id(self)}\")\n",
    "        self.gender=input(\"Gender: \")\n",
    "        self.name=input(\"Name: \")       #these are the setters\n",
    "    \n",
    "    def displayHuman(self):            #these are the getters\n",
    "        print(f\"Name: {self.name} Gender: {self.gender}\")\n",
    "    \n",
    "    def __del__(self):\n",
    "        print(f\"RIP {self.name}\")\n",
    "\n",
    "h=Human()\n",
    "h=Human()\n",
    "h=Human()\n",
    "\n",
    "\"\"\"\n",
    "constructor is used for:-\n",
    "-->initialization\n",
    "-->default value\n",
    "-->validation\n",
    "\n",
    "all the methods that start and end with double underscore are \n",
    "known as system methods\n",
    "\n",
    "del method:-\n",
    "called on its own just before anything goes for\n",
    "garbage collection\n",
    "in simple words this method is called when two objects \n",
    "having same name are used so when reference of first object\n",
    "ends and then refers to second object then del method will\n",
    "be called for first object\n",
    "\"\"\""
   ]
  },
  {
   "cell_type": "code",
   "execution_count": null,
   "metadata": {},
   "outputs": [],
   "source": [
    "\"\"\"\n",
    "access specifiers/viabilities\n",
    "\n",
    "public-->var(default)\n",
    "private-->var(not visible but known can access)\n",
    "strong private-->(not visible and not accessed by outside class)\n",
    "\n",
    "\"\"\""
   ]
  },
  {
   "cell_type": "code",
   "execution_count": 1,
   "metadata": {},
   "outputs": [
    {
     "ename": "AttributeError",
     "evalue": "type object 'Person' has no attribute '__contact'",
     "output_type": "error",
     "traceback": [
      "\u001b[1;31m---------------------------------------------------------------------------\u001b[0m",
      "\u001b[1;31mAttributeError\u001b[0m                            Traceback (most recent call last)",
      "Cell \u001b[1;32mIn[1], line 8\u001b[0m\n\u001b[0;32m      6\u001b[0m Person\u001b[39m.\u001b[39mgender\n\u001b[0;32m      7\u001b[0m Person\u001b[39m.\u001b[39m_name\n\u001b[1;32m----> 8\u001b[0m Person\u001b[39m.\u001b[39;49m__contact\n",
      "\u001b[1;31mAttributeError\u001b[0m: type object 'Person' has no attribute '__contact'"
     ]
    }
   ],
   "source": [
    "class Person:\n",
    "    gender=\"Male\" #public\n",
    "    _name=\"Kartik\"  #private\n",
    "    __contact=\"9167325356\" #strong private\n",
    "\n",
    "Person.gender\n",
    "Person._name\n",
    "Person.__contact\n"
   ]
  }
 ],
 "metadata": {
  "kernelspec": {
   "display_name": "Python 3.11.0 64-bit",
   "language": "python",
   "name": "python3"
  },
  "language_info": {
   "codemirror_mode": {
    "name": "ipython",
    "version": 3
   },
   "file_extension": ".py",
   "mimetype": "text/x-python",
   "name": "python",
   "nbconvert_exporter": "python",
   "pygments_lexer": "ipython3",
   "version": "3.11.0 (main, Oct 24 2022, 18:26:48) [MSC v.1933 64 bit (AMD64)]"
  },
  "orig_nbformat": 4,
  "vscode": {
   "interpreter": {
    "hash": "c261aea317cc0286b3b3261fbba9abdec21eaa57589985bb7a274bf54d6cc0a7"
   }
  }
 },
 "nbformat": 4,
 "nbformat_minor": 2
}
