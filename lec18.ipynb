{
 "cells": [
  {
   "cell_type": "code",
   "execution_count": null,
   "metadata": {},
   "outputs": [],
   "source": [
    "\"\"\"\n",
    "In searching alogithms:\n",
    "-->Result found: return ith position\n",
    "-->Result not found: return -1\n",
    "\"\"\""
   ]
  },
  {
   "cell_type": "code",
   "execution_count": null,
   "metadata": {},
   "outputs": [],
   "source": [
    "\"\"\"\n",
    "Sequential search-Works on unsorted data\n",
    "Binary Search:Works on unsorted data\n",
    "\n",
    "1.Sequential Search:\n",
    "-->Start from 1st and return when found\n",
    "-->If not found till end return -1\n",
    "-->Only search which works on unsorted data\n",
    "\"\"\""
   ]
  },
  {
   "cell_type": "code",
   "execution_count": null,
   "metadata": {},
   "outputs": [],
   "source": [
    "def sequentialSearch(array,key):\n",
    "    count=0\n",
    "    for element in array:\n",
    "        if key==element:\n",
    "            return count\n",
    "        count+=1\n",
    "    if count==len(array):\n",
    "        return -1\n",
    "        \n"
   ]
  },
  {
   "cell_type": "code",
   "execution_count": null,
   "metadata": {},
   "outputs": [],
   "source": [
    "a=[]\n",
    "size=int(input(\"Enter number of elements:\"))\n",
    "for i in range(size):\n",
    "    data=int(input(\"Enter element:\"))\n",
    "    a.append(data)\n",
    "print(a)\n",
    "key=int(input(\"Enter key to search\"))\n",
    "res=sequentialSearch(a,key)\n",
    "if res==-1:\n",
    "    print(f\"{key} not found\")\n",
    "else:\n",
    "    print(f\"Key found at {res+1} position\")"
   ]
  },
  {
   "cell_type": "code",
   "execution_count": null,
   "metadata": {},
   "outputs": [],
   "source": [
    "\"\"\" \n",
    "Binary Search:\n",
    "-->Can only work on sorted data\n",
    "-->Search that reduces load by 50% in each pass(This is an advantage)\n",
    "-->this is also a recursive search\n",
    "\n",
    "\"\"\""
   ]
  },
  {
   "cell_type": "code",
   "execution_count": null,
   "metadata": {},
   "outputs": [],
   "source": [
    "def binarySearch(array,start,end,key):\n",
    "    if start==end:\n",
    "        if key==array[start]:\n",
    "            return start\n",
    "        else:\n",
    "            return -1\n",
    "    else:\n",
    "        mid=(start+end)//2\n",
    "        if key==array[mid]:\n",
    "            return mid\n",
    "        else:\n",
    "            if key<array[mid]:\n",
    "                return binarySearch(array,start,mid,key)\n",
    "            else:\n",
    "                return binarySearch(array,mid+1,end,key)\n",
    "\n"
   ]
  },
  {
   "cell_type": "code",
   "execution_count": null,
   "metadata": {},
   "outputs": [],
   "source": [
    "a=[]\n",
    "size=int(input(\"Enter number of elements:\"))\n",
    "for i in range(size):\n",
    "    data=int(input(\"Enter element:\"))\n",
    "    a.append(data)\n",
    "print(a)\n",
    "key=int(input(\"Enter key to search\"))\n",
    "res=binarySearch(a,0,len(a)-1,key)\n",
    "if res==-1:\n",
    "    print(f\"{key} not found\")\n",
    "else:\n",
    "    print(f\"Key found at {res+1} position\")"
   ]
  },
  {
   "cell_type": "code",
   "execution_count": null,
   "metadata": {},
   "outputs": [],
   "source": [
    "def binarySearch(array,start,end,key):\n",
    "    while(start==end):\n",
    "        mid = (start+end)//2\n",
    "        if key==array[mid]:\n",
    "            return mid\n",
    "        else:\n",
    "            if key<array[mid]:\n",
    "                end=mid+1\n",
    "            else:\n",
    "                start=mid-1\n",
    "                "
   ]
  },
  {
   "cell_type": "code",
   "execution_count": null,
   "metadata": {},
   "outputs": [],
   "source": [
    "a=[]\n",
    "size=int(input(\"Enter number of elements:\"))\n",
    "for i in range(size):\n",
    "    data=int(input(\"Enter element:\"))\n",
    "    a.append(data)\n",
    "print(a)\n",
    "key=int(input(\"Enter key to search\"))\n",
    "res=binarySearch(a,0,len(a)-1,key)\n",
    "if res==-1:\n",
    "    print(f\"{key} not found\")\n",
    "else:\n",
    "    print(f\"Key found at {res+1} position\")"
   ]
  },
  {
   "cell_type": "code",
   "execution_count": null,
   "metadata": {},
   "outputs": [],
   "source": [
    "\"\"\" \n",
    "Hashing:\n",
    "It is a searching technique which searches data in one pass\n",
    "\n",
    "Consists of 3 parts:\n",
    "1.Data\n",
    "2.Hash Function\n",
    "3.Hash Table\n",
    "\n",
    "Data-->Data(i)-->Hash Function-->H(i)-->Index(x)-->Hash Table(Index x)\n",
    "\n",
    "\n",
    "Good Hash Function:\n",
    "-->Fast\n",
    "-->Should give unique index\n",
    "-->Should spread data\n",
    "\n",
    "eg:\n",
    "1.Mod\n",
    "x:H(x):x%n=index\n",
    "lets say x is 5 and n can be size of hash table or a prime no\n",
    "\n",
    "\n",
    "\"\"\""
   ]
  }
 ],
 "metadata": {
  "kernelspec": {
   "display_name": "Python 3",
   "language": "python",
   "name": "python3"
  },
  "language_info": {
   "codemirror_mode": {
    "name": "ipython",
    "version": 3
   },
   "file_extension": ".py",
   "mimetype": "text/x-python",
   "name": "python",
   "nbconvert_exporter": "python",
   "pygments_lexer": "ipython3",
   "version": "3.11.0 (main, Oct 24 2022, 18:26:48) [MSC v.1933 64 bit (AMD64)]"
  },
  "orig_nbformat": 4,
  "vscode": {
   "interpreter": {
    "hash": "c261aea317cc0286b3b3261fbba9abdec21eaa57589985bb7a274bf54d6cc0a7"
   }
  }
 },
 "nbformat": 4,
 "nbformat_minor": 2
}
