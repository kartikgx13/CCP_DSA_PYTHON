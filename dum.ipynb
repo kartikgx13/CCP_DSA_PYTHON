{
 "cells": [
  {
   "cell_type": "code",
   "execution_count": 3,
   "metadata": {},
   "outputs": [
    {
     "name": "stdout",
     "output_type": "stream",
     "text": [
      "Enter record no 1\n",
      "Enter record no 2\n",
      "Enter record no 3\n"
     ]
    },
    {
     "ename": "ValueError",
     "evalue": "invalid literal for int() with base 10: ''",
     "output_type": "error",
     "traceback": [
      "\u001b[1;31m---------------------------------------------------------------------------\u001b[0m",
      "\u001b[1;31mValueError\u001b[0m                                Traceback (most recent call last)",
      "\u001b[1;32mc:\\ACT_PRACTICE\\dum.ipynb Cell 1\u001b[0m in \u001b[0;36m<module>\u001b[1;34m\u001b[0m\n\u001b[0;32m     <a href='vscode-notebook-cell:/c%3A/ACT_PRACTICE/dum.ipynb#W0sZmlsZQ%3D%3D?line=13'>14</a>\u001b[0m \u001b[39mfor\u001b[39;00m i \u001b[39min\u001b[39;00m \u001b[39mrange\u001b[39m(\u001b[39m3\u001b[39m):\n\u001b[0;32m     <a href='vscode-notebook-cell:/c%3A/ACT_PRACTICE/dum.ipynb#W0sZmlsZQ%3D%3D?line=14'>15</a>\u001b[0m     \u001b[39mprint\u001b[39m(\u001b[39mf\u001b[39m\u001b[39m\"\u001b[39m\u001b[39mEnter record no \u001b[39m\u001b[39m{\u001b[39;00mi\u001b[39m+\u001b[39m\u001b[39m1\u001b[39m\u001b[39m}\u001b[39;00m\u001b[39m\"\u001b[39m)\n\u001b[1;32m---> <a href='vscode-notebook-cell:/c%3A/ACT_PRACTICE/dum.ipynb#W0sZmlsZQ%3D%3D?line=15'>16</a>\u001b[0m     r\u001b[39m=\u001b[39m\u001b[39mint\u001b[39;49m(\u001b[39minput\u001b[39;49m(\u001b[39m\"\u001b[39;49m\u001b[39mEnter roll no: \u001b[39;49m\u001b[39m\"\u001b[39;49m))\n\u001b[0;32m     <a href='vscode-notebook-cell:/c%3A/ACT_PRACTICE/dum.ipynb#W0sZmlsZQ%3D%3D?line=16'>17</a>\u001b[0m     n\u001b[39m=\u001b[39m\u001b[39minput\u001b[39m(\u001b[39m\"\u001b[39m\u001b[39mEnter name\u001b[39m\u001b[39m\"\u001b[39m)\n\u001b[0;32m     <a href='vscode-notebook-cell:/c%3A/ACT_PRACTICE/dum.ipynb#W0sZmlsZQ%3D%3D?line=17'>18</a>\u001b[0m     g\u001b[39m=\u001b[39m\u001b[39minput\u001b[39m(\u001b[39m\"\u001b[39m\u001b[39mEnter gender\u001b[39m\u001b[39m\"\u001b[39m)\n",
      "\u001b[1;31mValueError\u001b[0m: invalid literal for int() with base 10: ''"
     ]
    }
   ],
   "source": [
    "class Student:\n",
    "\n",
    "    def setDetails(self,rollno,name,gender,pointer):\n",
    "        self.rollno=rollno\n",
    "        self.name=name\n",
    "        self.gender=gender\n",
    "        self.pointer=pointer\n",
    "    \n",
    "    def getDetails(self):\n",
    "        print(f\" Name: {self.name} Rollno: {self.rollno} Gender: {self.gender} Pointer: {self.pointer}\")\n",
    "\n",
    "stdlist=[]\n",
    "\n",
    "for i in range(3):\n",
    "    print(f\"Enter record no {i+1}\")\n",
    "    r=int(input(\"Enter roll no: \"))\n",
    "    n=input(\"Enter name\")\n",
    "    g=input(\"Enter gender\")\n",
    "    p=float(input(\"Enter pointer\"))\n",
    "    stdu=Student()\n",
    "    stdu.setDetails(r,n,g,p)\n",
    "    stdlist.append(stdu)\n",
    "    del stdu\n",
    "\n",
    "print(\"All details added\")\n",
    "\n",
    "for i in stdlist:\n",
    "    i.getDetails()\n",
    "\n",
    "checkR=int(input(\"Enter roll no to be checked\"))\n",
    "\n",
    "for i in stdlist:\n",
    "    if checkR==i.rollno:\n",
    "        print(i.getDetails)"
   ]
  },
  {
   "cell_type": "code",
   "execution_count": 2,
   "metadata": {},
   "outputs": [
    {
     "name": "stdout",
     "output_type": "stream",
     "text": [
      " Name: mamx Rollno: 2 Gender: jnanc Pointer: 12313\n",
      " Name:  aska sca Rollno: 4 Gender: aa ss  Pointer: 2313\n",
      " Name: klxak Rollno: 123132 Gender: xlxklaxkl Pointer: 2312312\n"
     ]
    }
   ],
   "source": [
    "for i in stdlist:\n",
    "    i.getDetails()\n",
    "\n",
    "checkR=int(input(\"Enter roll no to be checked\"))\n",
    "\n",
    "for i in stdlist:\n",
    "    if checkR==i.rollno:\n",
    "        print(i.getDetails)"
   ]
  }
 ],
 "metadata": {
  "kernelspec": {
   "display_name": "Python 3",
   "language": "python",
   "name": "python3"
  },
  "language_info": {
   "codemirror_mode": {
    "name": "ipython",
    "version": 3
   },
   "file_extension": ".py",
   "mimetype": "text/x-python",
   "name": "python",
   "nbconvert_exporter": "python",
   "pygments_lexer": "ipython3",
   "version": "3.11.0 (main, Oct 24 2022, 18:26:48) [MSC v.1933 64 bit (AMD64)]"
  },
  "orig_nbformat": 4,
  "vscode": {
   "interpreter": {
    "hash": "c261aea317cc0286b3b3261fbba9abdec21eaa57589985bb7a274bf54d6cc0a7"
   }
  }
 },
 "nbformat": 4,
 "nbformat_minor": 2
}
