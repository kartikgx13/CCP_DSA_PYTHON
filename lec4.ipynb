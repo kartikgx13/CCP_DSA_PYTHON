{
 "cells": [
  {
   "cell_type": "code",
   "execution_count": 1,
   "metadata": {},
   "outputs": [],
   "source": [
    "i=int(input(\"Enter i value: \"))\n",
    "if i==1:\n",
    "    print(\"One\")\n",
    "elif i==2:\n",
    "    pass                        #suppose we dont have the code for elif ready then for time being we can use pass so that there is no error thrown.\n",
    "elif i==3:                     #its a no operation statement used to complete a code block(it can be any code block)\n",
    "    print(\"Three\")\n"
   ]
  },
  {
   "cell_type": "code",
   "execution_count": null,
   "metadata": {},
   "outputs": [],
   "source": [
    "#data strcutures is a way to store and access data\n",
    "\"\"\"\n",
    "there are mainly four data structures in python\n",
    "\n",
    "-->list-presented by square braces\n",
    "-->tuples-presented by round brackets\n",
    "-->set-presented by curly braces without key\n",
    "-->dictionary-presented by curly braces with key and data\n",
    "\n",
    "Among these lists is used most among users\n",
    "Internally tuples is most used by python\n",
    "\n",
    "\"\"\""
   ]
  },
  {
   "cell_type": "code",
   "execution_count": 2,
   "metadata": {},
   "outputs": [
    {
     "data": {
      "text/plain": [
       "list"
      ]
     },
     "execution_count": 2,
     "metadata": {},
     "output_type": "execute_result"
    }
   ],
   "source": [
    "datalist=[]\n",
    "type(datalist)"
   ]
  },
  {
   "cell_type": "code",
   "execution_count": 3,
   "metadata": {},
   "outputs": [
    {
     "data": {
      "text/plain": [
       "tuple"
      ]
     },
     "execution_count": 3,
     "metadata": {},
     "output_type": "execute_result"
    }
   ],
   "source": [
    "datalist1=()\n",
    "type(datalist1)"
   ]
  },
  {
   "cell_type": "code",
   "execution_count": 4,
   "metadata": {},
   "outputs": [
    {
     "data": {
      "text/plain": [
       "dict"
      ]
     },
     "execution_count": 4,
     "metadata": {},
     "output_type": "execute_result"
    }
   ],
   "source": [
    "datalist2={}\n",
    "type(datalist2)\n"
   ]
  },
  {
   "cell_type": "code",
   "execution_count": 5,
   "metadata": {},
   "outputs": [
    {
     "data": {
      "text/plain": [
       "set"
      ]
     },
     "execution_count": 5,
     "metadata": {},
     "output_type": "execute_result"
    }
   ],
   "source": [
    "datalist3={0}\n",
    "type(datalist3)"
   ]
  },
  {
   "cell_type": "code",
   "execution_count": 6,
   "metadata": {},
   "outputs": [
    {
     "name": "stdout",
     "output_type": "stream",
     "text": [
      "11 222 3333 44444 55555 "
     ]
    },
    {
     "data": {
      "text/plain": [
       "103565"
      ]
     },
     "execution_count": 6,
     "metadata": {},
     "output_type": "execute_result"
    }
   ],
   "source": [
    "numbers=[11,222,3333,44444,55555]\n",
    "for i in numbers:\n",
    "    print(i,end=\" \")\n",
    "\n",
    "sum(numbers)\n",
    "\n"
   ]
  },
  {
   "cell_type": "code",
   "execution_count": 7,
   "metadata": {},
   "outputs": [
    {
     "data": {
      "text/plain": [
       "[11, 222]"
      ]
     },
     "execution_count": 7,
     "metadata": {},
     "output_type": "execute_result"
    }
   ],
   "source": [
    "numbers[0:2]"
   ]
  },
  {
   "cell_type": "code",
   "execution_count": 13,
   "metadata": {},
   "outputs": [
    {
     "name": "stdout",
     "output_type": "stream",
     "text": [
      "[0, 1, 2, 3, 4, 5, 6, 7, 8, 9, 10, 11, 12, 13, 14, 15, 16, 17, 18, 19, 20, 21, 22, 23, 24, 25, 26, 27, 28, 29, 30, 31, 32, 33, 34, 35, 36, 37, 38, 39, 40, 41, 42, 43, 44, 45, 46, 47, 48, 49, 50]\n",
      "[0, 1, 2, 3, 4, 5, 6, 7, 8, 9, 10, 11, 12, 13, 14, 15, 16, 17, 18, 19, 20, 22, 23, 24, 25, 26, 27, 28, 29, 30, 31, 32, 33, 34, 35, 36, 37, 38, 39, 40, 41, 42, 43, 44, 45, 46, 47, 48, 49, 50]\n",
      "[50, 49, 48, 47, 46, 45, 44, 43, 42, 41, 40, 39, 38, 37, 36, 35, 34, 33, 32, 31, 30, 29, 28, 27, 26, 25, 24, 23, 22, 20, 19, 18, 17, 16, 15, 14, 13, 12, 11, 10, 9, 8, 7, 6, 5, 4, 3, 2, 1, 0]\n"
     ]
    }
   ],
   "source": [
    "list3=[i for i in range(0,51)]\n",
    "print(list3)\n",
    "list3.remove(21)\n",
    "print(list3)\n",
    "#temp_list=list3[::-1]    #for this reversing we have to create a temp var which will store the reverse of the list\n",
    "print(list3[::-1])                #not in place that is this will not affect the order of original list\n",
    "#list3.reverse()             #in place because the list is now permanently reversed\n",
    "#print(list3)\n",
    "\n"
   ]
  },
  {
   "cell_type": "code",
   "execution_count": 16,
   "metadata": {},
   "outputs": [
    {
     "name": "stdout",
     "output_type": "stream",
     "text": [
      "[11, 22, 33]\n",
      "[44, 55, 66]\n",
      "[77, 88, 99]\n"
     ]
    }
   ],
   "source": [
    "#nested loop\n",
    "list2d=[[11,22,33],[44,55,66],[77,88,99]]\n",
    "for i in list2d:\n",
    "    print(i)"
   ]
  },
  {
   "cell_type": "code",
   "execution_count": 17,
   "metadata": {},
   "outputs": [
    {
     "name": "stdout",
     "output_type": "stream",
     "text": [
      "11\n",
      "22\n",
      "33\n",
      "44\n",
      "55\n",
      "66\n",
      "77\n",
      "88\n",
      "99\n"
     ]
    }
   ],
   "source": [
    "#each element is a column\n",
    "list2d=[\n",
    "[11,22,33],    #1st row\n",
    "[44,55,66],    #2nd row\n",
    "[77,88,99]     #3rd row\n",
    "]\n",
    "for row in list2d:\n",
    "    for element in row:\n",
    "        print(element)"
   ]
  },
  {
   "cell_type": "code",
   "execution_count": 18,
   "metadata": {},
   "outputs": [
    {
     "data": {
      "text/plain": [
       "99"
      ]
     },
     "execution_count": 18,
     "metadata": {},
     "output_type": "execute_result"
    }
   ],
   "source": [
    "#here also indexing start from one\n",
    "list2d[2][2]   #tuples have less workability because they cannot be modified hence used by python internally for better security"
   ]
  },
  {
   "cell_type": "code",
   "execution_count": 19,
   "metadata": {},
   "outputs": [],
   "source": [
    "td=(34,21,11)"
   ]
  },
  {
   "cell_type": "code",
   "execution_count": 20,
   "metadata": {},
   "outputs": [],
   "source": [
    "td=(11,22,33)   #tuples cannot be modified but the elements can be replaced"
   ]
  },
  {
   "cell_type": "code",
   "execution_count": 21,
   "metadata": {},
   "outputs": [],
   "source": [
    "td=(1,2,3,[11,22,33])"
   ]
  },
  {
   "cell_type": "code",
   "execution_count": 22,
   "metadata": {},
   "outputs": [
    {
     "data": {
      "text/plain": [
       "(1, 2, 3, [11, 22, 33, 1000])"
      ]
     },
     "execution_count": 22,
     "metadata": {},
     "output_type": "execute_result"
    }
   ],
   "source": [
    "td[3].append(1000)  #this is to create a dynamic list inside a tuple\n",
    "td"
   ]
  },
  {
   "cell_type": "code",
   "execution_count": 23,
   "metadata": {},
   "outputs": [
    {
     "data": {
      "text/plain": [
       "{11, 34}"
      ]
     },
     "execution_count": 23,
     "metadata": {},
     "output_type": "execute_result"
    }
   ],
   "source": [
    "s=set()  #this creates an empty set #in sets no duplicate are allowed so 11 is printed only once\n",
    "#suppose\n",
    "#QR stands for quick response code\n",
    "s.add(11)\n",
    "s.add(34)\n",
    "s.add(11)\n",
    "s\n"
   ]
  },
  {
   "cell_type": "code",
   "execution_count": 24,
   "metadata": {},
   "outputs": [
    {
     "data": {
      "text/plain": [
       "{11, 22, 33, 55, 444, 666, 777}"
      ]
     },
     "execution_count": 24,
     "metadata": {},
     "output_type": "execute_result"
    }
   ],
   "source": [
    "lista=[11,22,33,444,55,11,22,33,666,777,55]\n",
    "lista=set(lista)   #this removes all the duplicate in a list\n",
    "lista"
   ]
  },
  {
   "cell_type": "code",
   "execution_count": 28,
   "metadata": {},
   "outputs": [
    {
     "data": {
      "text/plain": [
       "'One'"
      ]
     },
     "execution_count": 28,
     "metadata": {},
     "output_type": "execute_result"
    }
   ],
   "source": [
    "d1={1:\"One\",2:\"Two\",3:\"Three\"}\n",
    "d1[1]                           #Here one is not the index,it is the key"
   ]
  },
  {
   "cell_type": "code",
   "execution_count": 30,
   "metadata": {},
   "outputs": [
    {
     "data": {
      "text/plain": [
       "{1: 'One', 2: 'Two', 3: 'Three', 1.5: 'Dedh Shana'}"
      ]
     },
     "execution_count": 30,
     "metadata": {},
     "output_type": "execute_result"
    }
   ],
   "source": [
    "d1[1.5]=\"Dedh Shana\"  #for changing colours of fonts in backend\n",
    "d1"
   ]
  },
  {
   "cell_type": "code",
   "execution_count": null,
   "metadata": {},
   "outputs": [],
   "source": [
    "\"\"\"\n",
    "take n numbers from user until user gives blank\n",
    "list only numbers which are unique\n",
    "11 22 11 33 44 22 11\n",
    "\"\"\"\n",
    "listb=[]\n",
    "n=int(input(\"Enter length of list: \"))\n",
    "print(\"Enter each element: \")\n",
    "for i in range(n):\n",
    "    (listb.append(input()))\n",
    "print(listb)\n",
    "listdup=set(listb)  \n",
    "listdup=list(listdup)  \n",
    "for item in listdup:\n",
    "    print(f\"{item} found {listb.count(item)} times\")\n",
    "print(listdup)\n",
    "listdup.sort()\n",
    "print(listdup)"
   ]
  },
  {
   "cell_type": "code",
   "execution_count": 31,
   "metadata": {},
   "outputs": [
    {
     "name": "stdout",
     "output_type": "stream",
     "text": [
      "Hello There\n"
     ]
    },
    {
     "data": {
      "text/plain": [
       "32"
      ]
     },
     "execution_count": 31,
     "metadata": {},
     "output_type": "execute_result"
    }
   ],
   "source": [
    "#what keyword is used for creating a function in python?\n",
    "#def keyword is used\n",
    "#in normal methods no self keyword is used \n",
    "#only in classes self keyword is used\n",
    "\n",
    "def myFunction():  #body\n",
    "    print(\"Hello There\")\n",
    "\n",
    "myFunction()  #call\n",
    "\n",
    "def addNumber(no1,no2):     \n",
    "    'Takes two input and add them'              #functions in python are by default overloaded that is the same add function can be used for integer and float\n",
    "    #print(f\"{no1}+{no2}={no1+no2}\")\n",
    "    return(no1+no2)\n",
    "\n",
    "addNumber(10,22)"
   ]
  },
  {
   "cell_type": "code",
   "execution_count": 34,
   "metadata": {},
   "outputs": [
    {
     "name": "stdout",
     "output_type": "stream",
     "text": [
      "(100, 15)\n"
     ]
    }
   ],
   "source": [
    "#return can return more than element in tuple form\n",
    "#this feature is exclusive to python\n",
    "def order(no1,no2):\n",
    "    if no1<no2:\n",
    "        return(no2,no1)\n",
    "    else:\n",
    "        return(no1,no2)\n",
    "\n",
    "ans=order(15,100)\n",
    "print(ans)\n",
    "#type(ans)"
   ]
  },
  {
   "cell_type": "code",
   "execution_count": 37,
   "metadata": {},
   "outputs": [
    {
     "name": "stdout",
     "output_type": "stream",
     "text": [
      "--> gaming\n",
      "--> cricket\n",
      "--> chess\n",
      "--> dancing\n"
     ]
    }
   ],
   "source": [
    "#functions in python can take variable size arguments\n",
    "def hobbies(*h):\n",
    "    #print(f\"Total hobbies are: {len(h)}\")\n",
    "    #print(type(h))\n",
    "    for i in h:\n",
    "        print(f\"--> {i}\")\n",
    "\n",
    "hobbies(\"gaming\",\"cricket\",\"chess\",\"dancing\")"
   ]
  },
  {
   "cell_type": "code",
   "execution_count": 38,
   "metadata": {},
   "outputs": [
    {
     "name": "stdout",
     "output_type": "stream",
     "text": [
      "So your name is unnamed and you are from unknown\n",
      "So your name is kartik and you are from mumbai\n"
     ]
    }
   ],
   "source": [
    "def aaddhar(name=\"unnamed\",native=\"unknown\"):                       #suppose the user has not given any arguments then these default arguments will be used\n",
    "    print(f\"So your name is {name} and you are from {native}\")\n",
    "\n",
    "aaddhar()\n",
    "aaddhar(\"kartik\",\"mumbai\")"
   ]
  },
  {
   "cell_type": "code",
   "execution_count": 40,
   "metadata": {},
   "outputs": [
    {
     "name": "stdout",
     "output_type": "stream",
     "text": [
      "In intro\n",
      "kartik कसा आहेस माझ्या मित्रा\n",
      "Intro ends\n"
     ]
    }
   ],
   "source": [
    "#this concept is known as decorators here exisiting function is modified by introducing a new function with additional parameters called as decorator function\n",
    "\n",
    "\n",
    "def hindi(name):\n",
    "    print(name,\"मेरे दोस्त आप कैसे हैं\")\n",
    "def marathi(name):\n",
    "    print(name,\"कसा आहेस माझ्या मित्रा\")\n",
    "def english(name):\n",
    "    print(name,\"How are you my friend\")\n",
    "def intro(name,lang):\n",
    "    print(f\"In intro\")\n",
    "    lang(name)\n",
    "    print(\"Intro ends\")\n",
    "\n",
    "intro(\"kartik\",marathi)"
   ]
  }
 ],
 "metadata": {
  "kernelspec": {
   "display_name": "Python 3.11.0 64-bit",
   "language": "python",
   "name": "python3"
  },
  "language_info": {
   "codemirror_mode": {
    "name": "ipython",
    "version": 3
   },
   "file_extension": ".py",
   "mimetype": "text/x-python",
   "name": "python",
   "nbconvert_exporter": "python",
   "pygments_lexer": "ipython3",
   "version": "3.11.0 (main, Oct 24 2022, 18:26:48) [MSC v.1933 64 bit (AMD64)]"
  },
  "orig_nbformat": 4,
  "vscode": {
   "interpreter": {
    "hash": "c261aea317cc0286b3b3261fbba9abdec21eaa57589985bb7a274bf54d6cc0a7"
   }
  }
 },
 "nbformat": 4,
 "nbformat_minor": 2
}
