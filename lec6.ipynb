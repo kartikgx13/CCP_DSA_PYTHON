{
 "cells": [
  {
   "cell_type": "code",
   "execution_count": 1,
   "metadata": {},
   "outputs": [
    {
     "name": "stdout",
     "output_type": "stream",
     "text": [
      "Hi from X\n",
      "Hi from Y\n"
     ]
    }
   ],
   "source": [
    "\"\"\"\n",
    "Inheritance:-\n",
    "-->the public and private parameters are inherited\n",
    "-->the strong private is not inherited\n",
    "\n",
    "\"\"\"\n",
    "\n",
    "class X:\n",
    "    def mX(self):\n",
    "        print(\"Hi from X\")\n",
    "\n",
    "class Y(X):\n",
    "    def mY(self):\n",
    "        print(\"Hi from Y\")\n",
    "\n",
    "obj=Y()           #here since Y is inheriting X so on creating an object of Y it can access methods of X also\n",
    "obj.mX()\n",
    "obj.mY()"
   ]
  },
  {
   "cell_type": "code",
   "execution_count": 2,
   "metadata": {},
   "outputs": [
    {
     "name": "stdout",
     "output_type": "stream",
     "text": [
      "Hi from Z\n"
     ]
    }
   ],
   "source": [
    "#multilevel inheritance\n",
    "class X:\n",
    "    def mX(self):\n",
    "        print(\"Hi from X\")\n",
    "\n",
    "class Y(X):\n",
    "    def mY(self):\n",
    "        print(\"Hi from Y\")\n",
    "\n",
    "class Z(Y):\n",
    "    def mZ(self):\n",
    "        print(\"Hi from Z\")\n",
    "\n",
    "obj1=Z()\n",
    "obj1.mZ()"
   ]
  },
  {
   "cell_type": "code",
   "execution_count": 4,
   "metadata": {},
   "outputs": [
    {
     "name": "stdout",
     "output_type": "stream",
     "text": [
      "Hi from Z\n",
      "Hi from X\n"
     ]
    }
   ],
   "source": [
    "#In heirarchial inheritance multiple classes\n",
    "#inherit from one single class that is called super class\n",
    "#X is superclass and Y and Z are sub classes\n",
    "class X:\n",
    "    def mX(self):\n",
    "        print(\"Hi from X\")\n",
    "\n",
    "class Y(X):\n",
    "    def mY(self):\n",
    "        print(\"Hi from Y\")\n",
    "\n",
    "class Z(X):\n",
    "    def mZ(self):\n",
    "        print(\"Hi from Z\")\n",
    "\n",
    "obj1=Z()\n",
    "obj1.mZ()\n",
    "obj1.mX()   #since Z is inheritng from X this works\n"
   ]
  },
  {
   "cell_type": "code",
   "execution_count": null,
   "metadata": {},
   "outputs": [],
   "source": [
    "\"\"\"\n",
    "In multiple inheritance there are multiple super\n",
    "classes but only one sub class\n",
    "\n",
    "For eg there are 3 super classes A,B,C\n",
    "and one sub class X\n",
    " So it is upto X which method from A,B & C\n",
    " to inherit\n",
    " But in such a case there is ambiguity because \n",
    " there will be confusion which method \n",
    " to inherit from a,b or c.\n",
    "\n",
    " Java does not support this but python does\n",
    " Python follows the principle of FCFT(first come first taken)\n",
    " \n",
    "\"\"\"\n",
    "class X:\n",
    "    def test(self):\n",
    "        print(\"Test from X\")\n",
    "\n",
    "    def mX(self):\n",
    "        print(\"Hi from X\")\n",
    "\n",
    "class Y:\n",
    "    def test(self):\n",
    "        print(\"Test from X\")\n",
    "\n",
    "    def mY(self):\n",
    "        print(\"Hi from Y\")\n",
    "\n",
    "class Z:\n",
    "    def test(self):\n",
    "        print(\"Test from X\")\n",
    "\n",
    "    def mZ(self):\n",
    "        print(\"Hi from Z\")\n",
    "\n",
    "class A(X,Y,Z):\n",
    "    def myA(self):\n",
    "        print(\"Hi from A\")\n",
    "\n",
    "obj3=A()\n",
    "obj3.test()\n",
    "#since the test object came afterwards\n",
    "#hence it was only inherited from X and not y & z\n",
    "\n",
    "\n"
   ]
  },
  {
   "cell_type": "code",
   "execution_count": null,
   "metadata": {},
   "outputs": [],
   "source": [
    "#over-ride\n",
    "class X:\n",
    "    def test(self):\n",
    "        print(\"Test from X\")\n",
    "\n",
    "    def mX(self):\n",
    "        print(\"Hi from X\")\n",
    "\n",
    "class Y(X):\n",
    "    def test(self):\n",
    "        print(\"Test from Y\")\n",
    "\n",
    "    def mY(self):\n",
    "        print(\"Hi from Y\")\n",
    "\n",
    "obj4=Y()\n",
    "obj5=X()   \n",
    "obj4.mX()\n",
    "obj4.mY()\n",
    "obj4.test() #-->will call test from Y class\n",
    "obj5.test()  #-->will call test from X class"
   ]
  },
  {
   "cell_type": "code",
   "execution_count": 5,
   "metadata": {},
   "outputs": [
    {
     "data": {
      "text/plain": [
       "'male'"
      ]
     },
     "execution_count": 5,
     "metadata": {},
     "output_type": "execute_result"
    }
   ],
   "source": [
    "#setter object based attribute creation\n",
    "class Human:  #an eg of an empty class or null class\n",
    "    pass\n",
    "\n",
    "ho=Human()\n",
    "setattr(ho,\"name\",\"kartik\")    #this will set an attributw without actually writing a method\n",
    "ho.name\n",
    "setattr(ho,\"gender\",\"male\")\n",
    "ho.gender"
   ]
  },
  {
   "cell_type": "code",
   "execution_count": null,
   "metadata": {},
   "outputs": [],
   "source": [
    "\"\"\" \n",
    "create a student class that stores \n",
    "-->roll no\n",
    "-->gender\n",
    "-->name\n",
    "-->pointer\n",
    "\n",
    "should have set details()\n",
    "and get details()\n",
    "\n",
    "\"\"\"\n",
    "\n",
    "class Student:\n",
    "\n",
    "    def setDetails(self,rollno,name,gender,pointer):\n",
    "        self.rollno=input(\"Enter rollno\")\n",
    "        self.name=input(\"Enter name\")\n",
    "        self.gender=input(\"Enter gender\")\n",
    "        self.pointer=input(\"Enter pointer\")\n",
    "    \n",
    "    def getDetails(self):\n",
    "        print(f\" Name: {self.name} Rollno: {self.rollno} Gender: {self.gender} Pointer: {self.pointer}\")\n",
    "\n",
    "stdlist=[]\n",
    "\n",
    "for i in range(3):\n",
    "    print(f\"Enter record no {i+1}\")\n",
    "    r=int(input(\"Enter roll no: \"))\n",
    "    n=input(\"Enter name\")\n",
    "    g=input(\"Enter gender\")\n",
    "    p=float(input(\"Enter pointer\"))\n",
    "    stdu=Student()\n",
    "    stdu.setDetails(r,n,g,p)\n",
    "    stdlist.append(stdu)\n",
    "\n",
    "print(\"All details added\")\n",
    "\n",
    "for i in stdlist:\n",
    "    i.getDetails()\n",
    "\n",
    "checkR=int(input(\"Enter roll no to be checked\"))\n",
    "\n",
    "for i in stdlist:\n",
    "    if checkR==i.rollno:\n",
    "        print(i.getDetails)\n",
    "\n",
    "\n",
    "\n",
    "\n",
    "\n",
    "\n",
    "\n",
    "\n",
    "    \n"
   ]
  },
  {
   "cell_type": "code",
   "execution_count": null,
   "metadata": {},
   "outputs": [],
   "source": [
    "class Student:\n",
    "\n",
    "    def setDetails(self,rollno,name,gender,pointer):\n",
    "        self.rollno=input(\"Enter rollno\")\n",
    "        self.name=input(\"Enter name\")\n",
    "        self.gender=input(\"Enter gender\")\n",
    "        self.pointer=input(\"Enter pointer\")\n",
    "    \n",
    "    def getDetails(self):\n",
    "        print(f\" Name: {self.name} Rollno: {self.rollno} Gender: {self.gender} Pointer: {self.pointer}\")\n",
    "\n",
    "stdlist=[]\n",
    "\n",
    "for i in range(3):\n",
    "    print(f\"Enter record no {i+1}\")\n",
    "    r=int(input(\"Enter roll no: \"))\n",
    "    n=input(\"Enter name\")\n",
    "    g=input(\"Enter gender\")\n",
    "    p=float(input(\"Enter pointer\"))\n",
    "    stdu=Student()\n",
    "    stdu.setDetails(r,n,g,p)\n",
    "    stdlist.append(stdu)\n",
    "\n",
    "print(\"All details added\")\n",
    "\n",
    "for i in stdlist:\n",
    "    i.getDetails()\n",
    "\n",
    "checkR=int(input(\"Enter roll no to be checked\"))\n",
    "\n",
    "for i in stdlist:\n",
    "    if checkR==i.rollno:\n",
    "        print(i.getDetails)"
   ]
  },
  {
   "cell_type": "code",
   "execution_count": null,
   "metadata": {},
   "outputs": [],
   "source": [
    "\"\"\" \n",
    "create 3 classes human study and job\n",
    "In job there must be salary\n",
    "in study there is stream\n",
    "in humans there must be name and gender\n",
    "\"\"\"\n",
    "\n",
    "class Human:\n",
    "    def __init__(self,name,gender):\n",
    "        self.name=name\n",
    "        self.gender=gender\n",
    "\n",
    "class Study(Human):\n",
    "    def __init__(self,name,gender,stream):\n",
    "        super().__init__(name,gender)\n",
    "        self.stream=stream\n",
    "\n",
    "class Job(Study):\n",
    "    def __init__(self,name,gender,stream,salary):\n",
    "        super().__init__(name,gender,stream)\n",
    "        self.salary=salary\n",
    "    def displayDetails(self):\n",
    "        print(f\"Name: {self.name}\")\n",
    "        print(f\"Gender: {self.gender}\")\n",
    "        print(f\"Stream: {self.stream}\")\n",
    "        print(f\"Salary: {self.salary}\")\n",
    "\n",
    "people=Job(\"kartik\",\"male\",\"engineering\",88709)\n",
    "people.displayDetails()"
   ]
  },
  {
   "cell_type": "code",
   "execution_count": null,
   "metadata": {},
   "outputs": [],
   "source": [
    "\"\"\" \n",
    "student class that auto genrates roll no\n",
    "name to be given by user\n",
    "\n",
    "\n",
    "\n",
    "\n",
    "\n",
    "\"\"\"\n",
    "\n",
    "class Student:\n",
    "    count=1\n",
    "    def __init__(self,name=\"\",nationality=\"Indian\",h=\"\"):\n",
    "        self.name=name\n",
    "        self.nationality=nationality\n",
    "        self.h=h\n",
    "        self.rollno=Student.count\n",
    "        Student.count+=1\n",
    "        print(f\"Name: {self.name} Nationality: {self.nationality} Hobbies--> {self.h} RollNo: {self.rollno}\")\n",
    "\n",
    "stt=Student(name=\"Kartik\",h=(\"cricket\",\"gaming\"))\n"
   ]
  }
 ],
 "metadata": {
  "kernelspec": {
   "display_name": "Python 3.11.0 64-bit",
   "language": "python",
   "name": "python3"
  },
  "language_info": {
   "codemirror_mode": {
    "name": "ipython",
    "version": 3
   },
   "file_extension": ".py",
   "mimetype": "text/x-python",
   "name": "python",
   "nbconvert_exporter": "python",
   "pygments_lexer": "ipython3",
   "version": "3.11.0 (main, Oct 24 2022, 18:26:48) [MSC v.1933 64 bit (AMD64)]"
  },
  "orig_nbformat": 4,
  "vscode": {
   "interpreter": {
    "hash": "c261aea317cc0286b3b3261fbba9abdec21eaa57589985bb7a274bf54d6cc0a7"
   }
  }
 },
 "nbformat": 4,
 "nbformat_minor": 2
}
