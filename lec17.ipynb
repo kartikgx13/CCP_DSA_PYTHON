{
 "cells": [
  {
   "cell_type": "code",
   "execution_count": null,
   "metadata": {},
   "outputs": [],
   "source": [
    "\"\"\"\n",
    "Insertion Sort:\n",
    "-->First element would be considered sorted\n",
    "-->comparisons would be in reverse manner i.e\n",
    "j would be compared with j-1\n",
    "\n",
    "\"\"\""
   ]
  },
  {
   "cell_type": "code",
   "execution_count": null,
   "metadata": {},
   "outputs": [],
   "source": [
    "\"\"\"\n",
    "Divide and conquer strategy:\n",
    "-->Dividing a big problem into n sub problems and solving them individually\n",
    "and the combining the solution of these n sub parts to get solution\n",
    "of the whole problem\n",
    "-->Divide the array of n size into n arrays of size 1\n",
    "-->The dividing is the Dividing stage and the merging is the Conquer stage\n",
    "\n",
    "\"\"\""
   ]
  },
  {
   "cell_type": "code",
   "execution_count": 3,
   "metadata": {},
   "outputs": [],
   "source": [
    "def merger(a,start,mid,end):\n",
    "    #creating a temp array of equal size\n",
    "    #the temp sorting will happen inside this array\n",
    "    temp=[]\n",
    "    for i in range(len(a)):\n",
    "        temp.append(0)     #so we store 0s inside this temporary array\n",
    "    i=start\n",
    "    j=mid+1\n",
    "    #a[i] will be compared with a[j] as subparts are already sorted\n",
    "    ti=start\n",
    "    while i<=mid and j<=end:\n",
    "        if a[i]<a[j]:\n",
    "            temp[ti]=a[i]\n",
    "            ti += 1\n",
    "            i += 1\n",
    "        else:      #if i is not smaller then j would be smaller so store it in the temp array\n",
    "            temp[ti]=a[j]\n",
    "            ti += 1\n",
    "            j += 1\n",
    "    #after doing this there maybe some left over elements in i or j so simply copy them to the temp array\n",
    "    while i<=mid:\n",
    "        temp[ti]=a[i]\n",
    "        ti += 1\n",
    "        i += 1\n",
    "    while j<=end:\n",
    "        temp[ti]=a[j]\n",
    "        ti += 1\n",
    "        j += 1\n",
    "    for i in range(start,end+1):\n",
    "        a[i]=temp[i]\n",
    "\n",
    "\n",
    "def mergeSort(a,start,end):\n",
    "    if start<end:\n",
    "        mid=(start+end)//2  #we performed int division because if no is odd divison will go on to decimal as it is recursive\n",
    "        mergeSort(a,start,mid)\n",
    "        mergeSort(a,mid+1,end)\n",
    "        merger(a,start,mid,end)"
   ]
  },
  {
   "cell_type": "code",
   "execution_count": 4,
   "metadata": {},
   "outputs": [
    {
     "name": "stdout",
     "output_type": "stream",
     "text": [
      "Elements are :\n",
      " [20, 15, 9, 1, 7]\n",
      "After sort elements are :\n",
      " [1, 7, 9, 15, 20]\n"
     ]
    }
   ],
   "source": [
    "#main part\n",
    "a=[]\n",
    "size=int(input(\"Enter number of elements:\"))\n",
    "for i in range(size):\n",
    "    data=int(input(\"Enter element:\"))\n",
    "    a.append(data)\n",
    "print(\"Elements are :\\n\",a)\n",
    "#bubblesort(a)\n",
    "#selectionsort(a)\n",
    "mergeSort(a,0,len(a)-1)\n",
    "print(\"After sort elements are :\\n\",a)"
   ]
  },
  {
   "cell_type": "code",
   "execution_count": null,
   "metadata": {},
   "outputs": [],
   "source": [
    "\"\"\"\n",
    "Merge sort is never generally operated\n",
    "on single machine that is it operates \n",
    "on several machines parallely.\n",
    "\"\"\""
   ]
  },
  {
   "cell_type": "code",
   "execution_count": null,
   "metadata": {},
   "outputs": [],
   "source": [
    "\"\"\"\n",
    "Quick Sort:\n",
    "-->Its fast\n",
    "-->We take a reference variable called pivot\n",
    "-->We arrange elements in such a way that\n",
    "elements on left must be less than it\n",
    "and on right it should be greater than it\n",
    "-->Pivot can be any element i.e start end mid.\n",
    "-->There will be 2 counter variables i and j\n",
    "i will begin from start and j will begin from end\n",
    "hence:\n",
    "-->a[i]<a[pivot]\n",
    "-->a[pivot]<a[j]\n",
    "\"\"\""
   ]
  },
  {
   "cell_type": "code",
   "execution_count": 5,
   "metadata": {},
   "outputs": [],
   "source": [
    "def quickSort(a,start,end):\n",
    "    i=start\n",
    "    j=end\n",
    "    pivot=start  #the start or end is preferred for pivot because taking mid as pivot might lessen the time taken but there might be some changes in the sort result\n",
    "    while (i<j):      \n",
    "        while (a[i]<a[pivot]):\n",
    "            i += 1\n",
    "        while (a[j]>a[pivot]):\n",
    "            j -= 1\n",
    "        if i<j:\n",
    "            a[i],a[j]=a[j],a[i]\n",
    "    #here after this step the array is converted into sub arrays and then quicksort is recursively called for the subparts\n",
    "    if i<end:\n",
    "        quickSort(a,i+1,end)\n",
    "    if j>start:\n",
    "        quickSort(a,start,j-1)\n"
   ]
  },
  {
   "cell_type": "code",
   "execution_count": 6,
   "metadata": {},
   "outputs": [
    {
     "name": "stdout",
     "output_type": "stream",
     "text": [
      "Elements are :\n",
      " [20, 15, 17, 1, 4]\n",
      "After sort elements are :\n",
      " [1, 4, 15, 17, 20]\n"
     ]
    }
   ],
   "source": [
    "a=[]\n",
    "size=int(input(\"Enter number of elements:\"))\n",
    "for i in range(size):\n",
    "    data=int(input(\"Enter element:\"))\n",
    "    a.append(data)\n",
    "print(\"Elements are :\\n\",a)\n",
    "#bubblesort(a)\n",
    "#selectionsort(a)\n",
    "quickSort(a,0,len(a)-1)\n",
    "print(\"After sort elements are :\\n\",a)"
   ]
  }
 ],
 "metadata": {
  "kernelspec": {
   "display_name": "Python 3",
   "language": "python",
   "name": "python3"
  },
  "language_info": {
   "codemirror_mode": {
    "name": "ipython",
    "version": 3
   },
   "file_extension": ".py",
   "mimetype": "text/x-python",
   "name": "python",
   "nbconvert_exporter": "python",
   "pygments_lexer": "ipython3",
   "version": "3.11.0 (main, Oct 24 2022, 18:26:48) [MSC v.1933 64 bit (AMD64)]"
  },
  "orig_nbformat": 4,
  "vscode": {
   "interpreter": {
    "hash": "c261aea317cc0286b3b3261fbba9abdec21eaa57589985bb7a274bf54d6cc0a7"
   }
  }
 },
 "nbformat": 4,
 "nbformat_minor": 2
}
